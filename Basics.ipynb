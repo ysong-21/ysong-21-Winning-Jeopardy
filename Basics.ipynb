{
    "cells": [
        {
            "cell_type": "markdown",
            "metadata": {
                "collapsed": true
            },
            "source": "# Winning Jeopardy"
        },
        {
            "cell_type": "code",
            "execution_count": 1,
            "metadata": {
                "collapsed": true
            },
            "outputs": [],
            "source": "import pandas as pd\nimport numpy as np"
        },
        {
            "cell_type": "code",
            "execution_count": 2,
            "metadata": {},
            "outputs": [],
            "source": "jeopardy = pd.read_csv(\"jeopardy.csv\")"
        },
        {
            "cell_type": "code",
            "execution_count": 3,
            "metadata": {},
            "outputs": [
                {
                    "data": {
                        "text/html": "<div>\n<style scoped>\n    .dataframe tbody tr th:only-of-type {\n        vertical-align: middle;\n    }\n\n    .dataframe tbody tr th {\n        vertical-align: top;\n    }\n\n    .dataframe thead th {\n        text-align: right;\n    }\n</style>\n<table border=\"1\" class=\"dataframe\">\n  <thead>\n    <tr style=\"text-align: right;\">\n      <th></th>\n      <th>Show Number</th>\n      <th>Air Date</th>\n      <th>Round</th>\n      <th>Category</th>\n      <th>Value</th>\n      <th>Question</th>\n      <th>Answer</th>\n    </tr>\n  </thead>\n  <tbody>\n    <tr>\n      <th>0</th>\n      <td>4680</td>\n      <td>2004-12-31</td>\n      <td>Jeopardy!</td>\n      <td>HISTORY</td>\n      <td>$200</td>\n      <td>For the last 8 years of his life, Galileo was ...</td>\n      <td>Copernicus</td>\n    </tr>\n    <tr>\n      <th>1</th>\n      <td>4680</td>\n      <td>2004-12-31</td>\n      <td>Jeopardy!</td>\n      <td>ESPN's TOP 10 ALL-TIME ATHLETES</td>\n      <td>$200</td>\n      <td>No. 2: 1912 Olympian; football star at Carlisl...</td>\n      <td>Jim Thorpe</td>\n    </tr>\n    <tr>\n      <th>2</th>\n      <td>4680</td>\n      <td>2004-12-31</td>\n      <td>Jeopardy!</td>\n      <td>EVERYBODY TALKS ABOUT IT...</td>\n      <td>$200</td>\n      <td>The city of Yuma in this state has a record av...</td>\n      <td>Arizona</td>\n    </tr>\n    <tr>\n      <th>3</th>\n      <td>4680</td>\n      <td>2004-12-31</td>\n      <td>Jeopardy!</td>\n      <td>THE COMPANY LINE</td>\n      <td>$200</td>\n      <td>In 1963, live on \"The Art Linkletter Show\", th...</td>\n      <td>McDonald's</td>\n    </tr>\n    <tr>\n      <th>4</th>\n      <td>4680</td>\n      <td>2004-12-31</td>\n      <td>Jeopardy!</td>\n      <td>EPITAPHS &amp; TRIBUTES</td>\n      <td>$200</td>\n      <td>Signer of the Dec. of Indep., framer of the Co...</td>\n      <td>John Adams</td>\n    </tr>\n  </tbody>\n</table>\n</div>",
                        "text/plain": "   Show Number    Air Date      Round                         Category  Value  \\\n0         4680  2004-12-31  Jeopardy!                          HISTORY   $200   \n1         4680  2004-12-31  Jeopardy!  ESPN's TOP 10 ALL-TIME ATHLETES   $200   \n2         4680  2004-12-31  Jeopardy!      EVERYBODY TALKS ABOUT IT...   $200   \n3         4680  2004-12-31  Jeopardy!                 THE COMPANY LINE   $200   \n4         4680  2004-12-31  Jeopardy!              EPITAPHS & TRIBUTES   $200   \n\n                                            Question      Answer  \n0  For the last 8 years of his life, Galileo was ...  Copernicus  \n1  No. 2: 1912 Olympian; football star at Carlisl...  Jim Thorpe  \n2  The city of Yuma in this state has a record av...     Arizona  \n3  In 1963, live on \"The Art Linkletter Show\", th...  McDonald's  \n4  Signer of the Dec. of Indep., framer of the Co...  John Adams  "
                    },
                    "execution_count": 3,
                    "metadata": {},
                    "output_type": "execute_result"
                }
            ],
            "source": "jeopardy.head(5)"
        },
        {
            "cell_type": "code",
            "execution_count": 4,
            "metadata": {},
            "outputs": [
                {
                    "data": {
                        "text/plain": "Show Number     int64\n Air Date      object\n Round         object\n Category      object\n Value         object\n Question      object\n Answer        object\ndtype: object"
                    },
                    "execution_count": 4,
                    "metadata": {},
                    "output_type": "execute_result"
                }
            ],
            "source": "jeopardy.dtypes"
        },
        {
            "cell_type": "markdown",
            "metadata": {},
            "source": "Some of the column names have spaces in front. Remove these spaces"
        },
        {
            "cell_type": "code",
            "execution_count": 5,
            "metadata": {
                "collapsed": true
            },
            "outputs": [],
            "source": "jeopardy.columns = jeopardy.columns.str.replace(' ','')"
        },
        {
            "cell_type": "code",
            "execution_count": 6,
            "metadata": {},
            "outputs": [
                {
                    "data": {
                        "text/plain": "ShowNumber     int64\nAirDate       object\nRound         object\nCategory      object\nValue         object\nQuestion      object\nAnswer        object\ndtype: object"
                    },
                    "execution_count": 6,
                    "metadata": {},
                    "output_type": "execute_result"
                }
            ],
            "source": "jeopardy.dtypes"
        },
        {
            "cell_type": "markdown",
            "metadata": {},
            "source": "Normalize questions and answers. \n1. Convert the string to lowercase.\n2. Remove all punctuation in the string."
        },
        {
            "cell_type": "code",
            "execution_count": 7,
            "metadata": {
                "collapsed": true
            },
            "outputs": [],
            "source": "import string"
        },
        {
            "cell_type": "code",
            "execution_count": 8,
            "metadata": {
                "collapsed": true
            },
            "outputs": [],
            "source": "def clean_string(s):\n    s=s.lower()\n    for c in string.punctuation:\n        s=s.replace(c,'')    \n    return s "
        },
        {
            "cell_type": "code",
            "execution_count": 9,
            "metadata": {},
            "outputs": [],
            "source": "jeopardy['clean_question'] = jeopardy['Question'].apply(clean_string)"
        },
        {
            "cell_type": "code",
            "execution_count": 10,
            "metadata": {},
            "outputs": [],
            "source": "jeopardy['clean_answer']=jeopardy['Answer'].apply(clean_string)"
        },
        {
            "cell_type": "code",
            "execution_count": 11,
            "metadata": {},
            "outputs": [
                {
                    "data": {
                        "text/html": "<div>\n<style scoped>\n    .dataframe tbody tr th:only-of-type {\n        vertical-align: middle;\n    }\n\n    .dataframe tbody tr th {\n        vertical-align: top;\n    }\n\n    .dataframe thead th {\n        text-align: right;\n    }\n</style>\n<table border=\"1\" class=\"dataframe\">\n  <thead>\n    <tr style=\"text-align: right;\">\n      <th></th>\n      <th>ShowNumber</th>\n      <th>AirDate</th>\n      <th>Round</th>\n      <th>Category</th>\n      <th>Value</th>\n      <th>Question</th>\n      <th>Answer</th>\n      <th>clean_question</th>\n      <th>clean_answer</th>\n    </tr>\n  </thead>\n  <tbody>\n    <tr>\n      <th>0</th>\n      <td>4680</td>\n      <td>2004-12-31</td>\n      <td>Jeopardy!</td>\n      <td>HISTORY</td>\n      <td>$200</td>\n      <td>For the last 8 years of his life, Galileo was ...</td>\n      <td>Copernicus</td>\n      <td>for the last 8 years of his life galileo was u...</td>\n      <td>copernicus</td>\n    </tr>\n    <tr>\n      <th>1</th>\n      <td>4680</td>\n      <td>2004-12-31</td>\n      <td>Jeopardy!</td>\n      <td>ESPN's TOP 10 ALL-TIME ATHLETES</td>\n      <td>$200</td>\n      <td>No. 2: 1912 Olympian; football star at Carlisl...</td>\n      <td>Jim Thorpe</td>\n      <td>no 2 1912 olympian football star at carlisle i...</td>\n      <td>jim thorpe</td>\n    </tr>\n    <tr>\n      <th>2</th>\n      <td>4680</td>\n      <td>2004-12-31</td>\n      <td>Jeopardy!</td>\n      <td>EVERYBODY TALKS ABOUT IT...</td>\n      <td>$200</td>\n      <td>The city of Yuma in this state has a record av...</td>\n      <td>Arizona</td>\n      <td>the city of yuma in this state has a record av...</td>\n      <td>arizona</td>\n    </tr>\n    <tr>\n      <th>3</th>\n      <td>4680</td>\n      <td>2004-12-31</td>\n      <td>Jeopardy!</td>\n      <td>THE COMPANY LINE</td>\n      <td>$200</td>\n      <td>In 1963, live on \"The Art Linkletter Show\", th...</td>\n      <td>McDonald's</td>\n      <td>in 1963 live on the art linkletter show this c...</td>\n      <td>mcdonalds</td>\n    </tr>\n    <tr>\n      <th>4</th>\n      <td>4680</td>\n      <td>2004-12-31</td>\n      <td>Jeopardy!</td>\n      <td>EPITAPHS &amp; TRIBUTES</td>\n      <td>$200</td>\n      <td>Signer of the Dec. of Indep., framer of the Co...</td>\n      <td>John Adams</td>\n      <td>signer of the dec of indep framer of the const...</td>\n      <td>john adams</td>\n    </tr>\n  </tbody>\n</table>\n</div>",
                        "text/plain": "   ShowNumber     AirDate      Round                         Category Value  \\\n0        4680  2004-12-31  Jeopardy!                          HISTORY  $200   \n1        4680  2004-12-31  Jeopardy!  ESPN's TOP 10 ALL-TIME ATHLETES  $200   \n2        4680  2004-12-31  Jeopardy!      EVERYBODY TALKS ABOUT IT...  $200   \n3        4680  2004-12-31  Jeopardy!                 THE COMPANY LINE  $200   \n4        4680  2004-12-31  Jeopardy!              EPITAPHS & TRIBUTES  $200   \n\n                                            Question      Answer  \\\n0  For the last 8 years of his life, Galileo was ...  Copernicus   \n1  No. 2: 1912 Olympian; football star at Carlisl...  Jim Thorpe   \n2  The city of Yuma in this state has a record av...     Arizona   \n3  In 1963, live on \"The Art Linkletter Show\", th...  McDonald's   \n4  Signer of the Dec. of Indep., framer of the Co...  John Adams   \n\n                                      clean_question clean_answer  \n0  for the last 8 years of his life galileo was u...   copernicus  \n1  no 2 1912 olympian football star at carlisle i...   jim thorpe  \n2  the city of yuma in this state has a record av...      arizona  \n3  in 1963 live on the art linkletter show this c...    mcdonalds  \n4  signer of the dec of indep framer of the const...   john adams  "
                    },
                    "execution_count": 11,
                    "metadata": {},
                    "output_type": "execute_result"
                }
            ],
            "source": "jeopardy.head(5)"
        },
        {
            "cell_type": "markdown",
            "metadata": {},
            "source": "Normalize dollar values:\n\n1. Remove any punctuation in the string\n2. Convert the string to an integer\n3. If the conversion has an error, assign 0 instead."
        },
        {
            "cell_type": "code",
            "execution_count": 12,
            "metadata": {
                "collapsed": true
            },
            "outputs": [],
            "source": "def clean_value(v):\n    for c in string.punctuation:\n        v=v.replace(c,'')\n    while True:\n        try:\n            v=int(v)\n            break\n        except ValueError:\n            return 0\n    return v"
        },
        {
            "cell_type": "code",
            "execution_count": 13,
            "metadata": {
                "collapsed": true
            },
            "outputs": [],
            "source": "jeopardy['clean_value']=jeopardy['Value'].apply(clean_value)"
        },
        {
            "cell_type": "markdown",
            "metadata": {},
            "source": "Normalize AirDate values:\n\n1. convert the column to a datetime column"
        },
        {
            "cell_type": "code",
            "execution_count": 14,
            "metadata": {},
            "outputs": [],
            "source": "jeopardy['AirDate'] = pd.to_datetime(jeopardy['AirDate'])"
        },
        {
            "cell_type": "code",
            "execution_count": 15,
            "metadata": {},
            "outputs": [
                {
                    "data": {
                        "text/plain": "ShowNumber                 int64\nAirDate           datetime64[ns]\nRound                     object\nCategory                  object\nValue                     object\nQuestion                  object\nAnswer                    object\nclean_question            object\nclean_answer              object\nclean_value                int64\ndtype: object"
                    },
                    "execution_count": 15,
                    "metadata": {},
                    "output_type": "execute_result"
                }
            ],
            "source": "jeopardy.dtypes"
        },
        {
            "cell_type": "markdown",
            "metadata": {},
            "source": "For improve the chance to win, we need to figure out two things:\n\n1. How often the answer is deducible from the question.\n2. How often new questions are repeats of older questions."
        },
        {
            "cell_type": "markdown",
            "metadata": {},
            "source": "# Question 1: "
        },
        {
            "cell_type": "markdown",
            "metadata": {},
            "source": "For finger out the first question, we need to check how many times words in the answer also occur in the question."
        },
        {
            "cell_type": "code",
            "execution_count": 16,
            "metadata": {},
            "outputs": [],
            "source": "def match(row):\n    split_answer = row['clean_answer'].split(' ')\n    split_question = row['clean_question'].split(' ')\n    match_count=0\n    if 'the' in split_answer:\n        split_answer.remove('the')\n    if len(split_answer)==0:\n        return 0\n    for item in split_answer:\n        if item in split_question:\n            match_count+=1\n    return match_count/len(split_answer)"
        },
        {
            "cell_type": "code",
            "execution_count": 17,
            "metadata": {
                "collapsed": true
            },
            "outputs": [],
            "source": "jeopardy['answer_in_question']=jeopardy.apply(match,axis=1)"
        },
        {
            "cell_type": "code",
            "execution_count": 18,
            "metadata": {},
            "outputs": [
                {
                    "data": {
                        "text/plain": "0.06035277385469894"
                    },
                    "execution_count": 18,
                    "metadata": {},
                    "output_type": "execute_result"
                }
            ],
            "source": "jeopardy['answer_in_question'].mean()"
        },
        {
            "cell_type": "markdown",
            "metadata": {},
            "source": "The mean of the chance that words in the answer also occur in the question is 6%. It's pretty rare."
        },
        {
            "cell_type": "markdown",
            "metadata": {},
            "source": "# Question 2:"
        },
        {
            "cell_type": "markdown",
            "metadata": {},
            "source": "Check the words that longer than 6 characters, to avoid the words like the and than. \n\n1. Sort jeipardy by ascending air date\n2. Check if the word of question appeared in previous question.\n3. Find the mean of the possiblity that new questions are repeats of older questions"
        },
        {
            "cell_type": "code",
            "execution_count": 19,
            "metadata": {},
            "outputs": [
                {
                    "data": {
                        "text/plain": "0.8016009520196677"
                    },
                    "execution_count": 19,
                    "metadata": {},
                    "output_type": "execute_result"
                }
            ],
            "source": "question_overlap=[]\nterms_used=set()\njeopardy=jeopardy.sort_values('AirDate')\nfor i,row in jeopardy.iterrows():\n    split_question = row['clean_question'].split(' ')\n    for word in split_question:\n        if len(word)<6:\n            split_question.remove(word)\n    match_count=0\n    for words in split_question:\n        if words in terms_used:\n            match_count+=1\n        terms_used.add(words)\n    if len(split_question) > 0:\n        match_count/=len(split_question)\n    question_overlap.append(match_count)\njeopardy['question_overlap'] = question_overlap\njeopardy['question_overlap'].mean()"
        },
        {
            "cell_type": "markdown",
            "metadata": {
                "collapsed": true
            },
            "source": "The mean is 80%, this means old questions are pretty important. We need to deep explore these questions."
        },
        {
            "cell_type": "markdown",
            "metadata": {},
            "source": "For earning more money, we can focuses on the high value questions. Now, we can use chi-squared test to fingure out which terms correspond to high-value questions."
        },
        {
            "cell_type": "markdown",
            "metadata": {},
            "source": "Classify the questions into two categories:\n\n1. Low value -- Any row where Value is less than 800\n2. High value -- Any row where Value is greater than 800."
        },
        {
            "cell_type": "code",
            "execution_count": 20,
            "metadata": {
                "collapsed": true
            },
            "outputs": [],
            "source": "def value(row):\n    value=0\n    if row['clean_value']>800:\n        value=1\n    else:\n        value=0\n    return value"
        },
        {
            "cell_type": "code",
            "execution_count": 21,
            "metadata": {
                "collapsed": true
            },
            "outputs": [],
            "source": "jeopardy['high_value']=jeopardy.apply(value,axis=1)"
        },
        {
            "cell_type": "code",
            "execution_count": 25,
            "metadata": {
                "collapsed": true
            },
            "outputs": [],
            "source": "# count the value of each term\ndef value_count(word):\n    low_count=0\n    high_count=0\n    for i,row in jeopardy.iterrows():\n        split_question=row['clean_question'].split(' ')\n        if word in split_question:\n            if row['high_value']==1:\n                high_count+=1\n            else:\n                low_count+=1\n    return high_count,low_count"
        },
        {
            "cell_type": "markdown",
            "metadata": {},
            "source": "Count the frequency of the term is high value and low value"
        },
        {
            "cell_type": "code",
            "execution_count": 26,
            "metadata": {},
            "outputs": [],
            "source": "observed_expected = []\ncomparison_terms= list(terms_used)[0:5]\nfor term in comparison_terms:\n    observed_expected.append(value_count(term))"
        },
        {
            "cell_type": "code",
            "execution_count": 29,
            "metadata": {},
            "outputs": [],
            "source": "high_value_count=len(jeopardy[jeopardy['high_value']==1])"
        },
        {
            "cell_type": "code",
            "execution_count": 31,
            "metadata": {},
            "outputs": [],
            "source": "low_value_count=len(jeopardy[jeopardy['high_value']==0])"
        },
        {
            "cell_type": "code",
            "execution_count": 33,
            "metadata": {},
            "outputs": [
                {
                    "data": {
                        "text/plain": "[Power_divergenceResult(statistic=4.4007463431988825, pvalue=0.035923206140745186),\n Power_divergenceResult(statistic=0.889754963322559, pvalue=0.3455437191483468),\n Power_divergenceResult(statistic=0.803925692253768, pvalue=0.3699222378079571),\n Power_divergenceResult(statistic=1.9628115606834662, pvalue=0.1612129460510291),\n Power_divergenceResult(statistic=1.3346324449838385, pvalue=0.24798277007881886)]"
                    },
                    "execution_count": 33,
                    "metadata": {},
                    "output_type": "execute_result"
                }
            ],
            "source": "from scipy.stats import chisquare\nchi_squared=[]\nfor lists in observed_expected:\n    total = sum(lists)\n    total_prop = total/len(jeopardy)\n    expected_term_count_high=total_prop*high_value_count\n    expected_term_count_low=total_prop*low_value_count\n    observed = np.array([lists[0], lists[1]])\n    expected = np.array([expected_term_count_high, expected_term_count_low])\n    chi_squared.append(chisquare(observed, expected))\nchi_squared"
        },
        {
            "cell_type": "markdown",
            "metadata": {},
            "source": "# Chi-squared results"
        },
        {
            "cell_type": "markdown",
            "metadata": {},
            "source": "There isn't significant difference. Additionally, the frequencies were all lower than 5, so the chi-squared test isn't as valid. It would be better to run this test with only terms that have higher frequencies."
        },
        {
            "cell_type": "code",
            "execution_count": null,
            "metadata": {
                "collapsed": true
            },
            "outputs": [],
            "source": ""
        }
    ],
    "metadata": {
        "kernelspec": {
            "display_name": "Python 3.6",
            "language": "python",
            "name": "python3"
        },
        "language_info": {
            "codemirror_mode": {
                "name": "ipython",
                "version": 3
            },
            "file_extension": ".py",
            "mimetype": "text/x-python",
            "name": "python",
            "nbconvert_exporter": "python",
            "pygments_lexer": "ipython3",
            "version": "3.6.9"
        }
    },
    "nbformat": 4,
    "nbformat_minor": 1
}